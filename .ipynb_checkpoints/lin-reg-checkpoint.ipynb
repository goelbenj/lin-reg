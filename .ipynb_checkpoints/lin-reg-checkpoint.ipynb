{
 "cells": [
  {
   "cell_type": "code",
   "execution_count": 183,
   "metadata": {},
   "outputs": [],
   "source": [
    "# Importing libraries\n",
    "import numpy as np\n",
    "import pandas as pd\n",
    "import matplotlib.pyplot as plt\n",
    "import seaborn as sns\n",
    "%matplotlib inline\n",
    "\n",
    "\n"
   ]
  },
  {
   "cell_type": "code",
   "execution_count": 184,
   "metadata": {},
   "outputs": [
    {
     "data": {
      "text/html": [
       "<div>\n",
       "<style scoped>\n",
       "    .dataframe tbody tr th:only-of-type {\n",
       "        vertical-align: middle;\n",
       "    }\n",
       "\n",
       "    .dataframe tbody tr th {\n",
       "        vertical-align: top;\n",
       "    }\n",
       "\n",
       "    .dataframe thead th {\n",
       "        text-align: right;\n",
       "    }\n",
       "</style>\n",
       "<table border=\"1\" class=\"dataframe\">\n",
       "  <thead>\n",
       "    <tr style=\"text-align: right;\">\n",
       "      <th></th>\n",
       "      <th>R&amp;D Spend</th>\n",
       "      <th>Administration</th>\n",
       "      <th>Marketing Spend</th>\n",
       "      <th>State</th>\n",
       "      <th>Profit</th>\n",
       "    </tr>\n",
       "  </thead>\n",
       "  <tbody>\n",
       "    <tr>\n",
       "      <th>0</th>\n",
       "      <td>165349.20</td>\n",
       "      <td>136897.80</td>\n",
       "      <td>471784.10</td>\n",
       "      <td>New York</td>\n",
       "      <td>192261.83</td>\n",
       "    </tr>\n",
       "    <tr>\n",
       "      <th>1</th>\n",
       "      <td>162597.70</td>\n",
       "      <td>151377.59</td>\n",
       "      <td>443898.53</td>\n",
       "      <td>California</td>\n",
       "      <td>191792.06</td>\n",
       "    </tr>\n",
       "    <tr>\n",
       "      <th>2</th>\n",
       "      <td>153441.51</td>\n",
       "      <td>101145.55</td>\n",
       "      <td>407934.54</td>\n",
       "      <td>Florida</td>\n",
       "      <td>191050.39</td>\n",
       "    </tr>\n",
       "    <tr>\n",
       "      <th>3</th>\n",
       "      <td>144372.41</td>\n",
       "      <td>118671.85</td>\n",
       "      <td>383199.62</td>\n",
       "      <td>New York</td>\n",
       "      <td>182901.99</td>\n",
       "    </tr>\n",
       "    <tr>\n",
       "      <th>4</th>\n",
       "      <td>142107.34</td>\n",
       "      <td>91391.77</td>\n",
       "      <td>366168.42</td>\n",
       "      <td>Florida</td>\n",
       "      <td>166187.94</td>\n",
       "    </tr>\n",
       "  </tbody>\n",
       "</table>\n",
       "</div>"
      ],
      "text/plain": [
       "   R&D Spend  Administration  Marketing Spend       State     Profit\n",
       "0  165349.20       136897.80        471784.10    New York  192261.83\n",
       "1  162597.70       151377.59        443898.53  California  191792.06\n",
       "2  153441.51       101145.55        407934.54     Florida  191050.39\n",
       "3  144372.41       118671.85        383199.62    New York  182901.99\n",
       "4  142107.34        91391.77        366168.42     Florida  166187.94"
      ]
     },
     "execution_count": 184,
     "metadata": {},
     "output_type": "execute_result"
    }
   ],
   "source": [
    "# Reading Data\n",
    "companies = pd.read_csv('1000_companies.csv')\n",
    "# Collecting X and Y\n",
    "x = companies.iloc[:, :-1].values\n",
    "y = companies.iloc[:, 4].values\n",
    "companies.head()"
   ]
  },
  {
   "cell_type": "code",
   "execution_count": 185,
   "metadata": {},
   "outputs": [
    {
     "data": {
      "text/plain": [
       "<matplotlib.axes._subplots.AxesSubplot at 0x2a693d7f0d0>"
      ]
     },
     "execution_count": 185,
     "metadata": {},
     "output_type": "execute_result"
    },
    {
     "data": {
      "image/png": "[encoded data removed]",
      "text/plain": [
       "<Figure size 432x288 with 2 Axes>"
      ]
     },
     "metadata": {
      "needs_background": "light"
     },
     "output_type": "display_data"
    }
   ],
   "source": [
    "# Data Visualisation\n",
    "# Building the Correlation Matrix\n",
    "\n",
    "sns.heatmap(companies.corr())\n"
   ]
  },
  {
   "cell_type": "code",
   "execution_count": 186,
   "metadata": {},
   "outputs": [
    {
     "name": "stdout",
     "output_type": "stream",
     "text": [
      "[0.000000e+00 0.000000e+00 1.000000e+00 1.653492e+05 1.368978e+05\n",
      " 4.717841e+05]\n"
     ]
    }
   ],
   "source": [
    "# Encoding categorical data\n",
    "from sklearn.preprocessing import LabelEncoder, OneHotEncoder\n",
    "from sklearn.compose import ColumnTransformer\n",
    "\n",
    "label_encoder_x_1 = LabelEncoder()\n",
    "x[: , 3] = label_encoder_x_1.fit_transform(x[:,3])\n",
    "transformer = ColumnTransformer(\n",
    "    transformers=[\n",
    "        (\"OneHot\",        # Just a name\n",
    "         OneHotEncoder(), # The transformer class\n",
    "         [3]              # The column(s) to be applied on.\n",
    "         )\n",
    "    ],\n",
    "    remainder='passthrough' # donot apply anything to the remaining columns\n",
    ")\n",
    "x = transformer.fit_transform(x.tolist())\n",
    "x = x.astype('float64')\n",
    "print(x[0])"
   ]
  },
  {
   "cell_type": "code",
   "execution_count": 187,
   "metadata": {},
   "outputs": [],
   "source": [
    "x = x[:, 1:]"
   ]
  },
  {
   "cell_type": "code",
   "execution_count": 188,
   "metadata": {},
   "outputs": [],
   "source": [
    "# Splitting the dataset into the Training set and Test set\n",
    "from sklearn.model_selection import train_test_split\n",
    "x_train, x_test, y_train, y_test = train_test_split(x, y, test_size=0.25,random_state=0)"
   ]
  },
  {
   "cell_type": "code",
   "execution_count": 189,
   "metadata": {},
   "outputs": [
    {
     "data": {
      "text/plain": [
       "LinearRegression(copy_X=True, fit_intercept=True, n_jobs=None, normalize=False)"
      ]
     },
     "execution_count": 189,
     "metadata": {},
     "output_type": "execute_result"
    }
   ],
   "source": [
    "# Fitting Multiple Linear Regression to the Training set\n",
    "from sklearn.linear_model import LinearRegression\n",
    "lin_reg = LinearRegression()\n",
    "lin_reg.fit(x_train,y_train)"
   ]
  },
  {
   "cell_type": "code",
   "execution_count": 190,
   "metadata": {},
   "outputs": [
    {
     "data": {
      "text/plain": [
       "array([ 89602.23052111,  88239.80201614,  94702.12002985, 175509.74442671,\n",
       "        83461.77749734, 110599.74053966, 131948.85577937,  91283.61641448,\n",
       "       164580.71663693,  53151.83628337,  66780.4820384 , 150415.85279944,\n",
       "       126696.46745134,  59174.37574826, 177253.79545624,  75372.9480624 ,\n",
       "       118123.9832721 , 164324.87239864, 172648.99037001, 182038.49259396,\n",
       "       121264.52583036,  85484.93573297, 180817.12779827,  83961.31367629,\n",
       "       104805.01158595, 101035.82615459,  55003.82567285,  56953.15534905,\n",
       "        68725.09361288, 210505.51620951, 120652.49268841, 111518.5513944 ,\n",
       "       101523.17182709, 137818.74835243,  63802.68839171, 108653.93623663,\n",
       "       185980.87518203, 171274.98401879, 174473.99007599, 117547.80200509,\n",
       "        96770.53433932, 165202.00538582, 107521.29431353,  50126.02756977,\n",
       "       116391.15260094,  58469.5826785 , 158259.46233249,  78449.79206775,\n",
       "       159569.58862318, 131003.17642491, 184702.06381637, 174438.83622508,\n",
       "        93554.04471704,  78395.32707751, 180716.36250725,  84365.08094287,\n",
       "       142756.58697364, 170597.18020496,  84414.36283371, 105339.51490538,\n",
       "       141516.76846479,  52602.64426816, 141612.01526368, 139180.72882279,\n",
       "        98099.188342  , 113466.51858437, 126768.82540854, 152129.37233127,\n",
       "        58934.63562781, 174115.5916955 , 124407.17613441, 168812.56945364,\n",
       "        91177.22325606, 156160.92591689,  84123.36465416,  77932.32437945,\n",
       "       120288.09240475,  93422.33851611, 138791.98555436, 143372.2831309 ,\n",
       "       170980.89153761, 139853.4622488 , 106400.99150948, 155399.2082941 ,\n",
       "       140033.85422825, 110201.04375124,  69501.05190716,  88194.69454457,\n",
       "       139904.04960042, 148475.93766735, 157905.76038407,  58370.12283587,\n",
       "        93749.01267036, 112526.79445988,  56628.195963  , 107445.31994122,\n",
       "       147204.84295654, 152137.94650263, 167789.15420132, 118538.18756007,\n",
       "       120637.05927805, 138888.79912789, 157517.35252901, 121834.86452663,\n",
       "        87138.36231681, 104679.75522214,  95375.5241716 , 178361.90777449,\n",
       "       181678.90137393, 109859.79353278, 165003.94312054, 167553.88782974,\n",
       "       157991.50158659, 174758.2030257 , 169942.6390879 ,  52144.45063994,\n",
       "       176678.47170575, 104551.21742236,  82527.71995299, 138895.21042263,\n",
       "       144129.30432163, 161519.34467467, 169495.8531372 , 120324.96111832,\n",
       "       158723.32244639, 110008.64798609, 169654.02637578,  60595.96567863,\n",
       "       158791.98956574, 157925.14552224, 174487.26068974, 156285.25076534,\n",
       "       103514.60573581,  85684.19072679, 141372.79717463, 165900.27453547,\n",
       "       121055.47661801, 171909.81507797, 100396.12241561,  82002.90946493,\n",
       "       178382.15032851, 101592.28689071,  70568.00837066,  90294.49777791,\n",
       "        61315.67012839,  68974.07853215,  72688.83750532, 176654.46412403,\n",
       "        89603.87128426, 131181.03089882,  92569.66114526,  88205.43292858,\n",
       "       172580.03994231,  60728.8646112 , 168850.22149388, 166199.17608029,\n",
       "       165262.80758161, 102059.50263044, 181564.34344603,  73614.84299178,\n",
       "        91077.83741434, 135565.54240177,  64987.96782114,  71835.26407558,\n",
       "        60672.61076978, 184110.44913901, 176115.07765178, 158896.07176984,\n",
       "       141361.98620782, 154603.0074458 ,  58619.96517925,  90517.01563887,\n",
       "       152878.75085566, 168232.88447279,  72544.34418171, 115941.8684609 ,\n",
       "        79994.84941731, 149824.64752396, 116829.69978333, 129970.06834121,\n",
       "       174364.24130207, 301982.85404823, 146036.2637552 , 150641.76165234,\n",
       "        86009.59805298,  69882.52635402,  70011.99566916,  68862.27958286,\n",
       "       120686.34117921,  89722.60363143, 166660.39001751, 125297.17025345,\n",
       "        67272.97217758, 138967.79362676, 118332.40855992, 165647.00248535,\n",
       "       168490.10826105, 146774.49592006, 141398.85491106, 109115.55947507,\n",
       "        82388.81913067, 156384.30121435, 136351.78962941,  60549.66537269,\n",
       "       143250.00853783, 176734.20352405,  87338.99685027, 136402.37697069,\n",
       "       169494.99571103,  95122.58752453, 137049.72337601, 126319.54126851,\n",
       "        32386.39052014,  70968.86805636, 166824.56515927, 138821.92095007,\n",
       "       127258.40796684, 137646.40843087,  82615.68798048, 130629.41862257,\n",
       "       169837.96068115, 108767.04062605, 123595.98982002, 117518.20202275,\n",
       "        60465.63893629, 126557.90194172, 179470.20679284,  53789.75117427,\n",
       "       123541.95649641, 173042.11121536,  70051.8460528 , 152020.07158163,\n",
       "       134560.13282799,  60249.57099349,  85628.90693278,  84892.79903247,\n",
       "        98557.38197643,  76308.38505604, 128185.79299294, 110431.68766893,\n",
       "        59824.29442899, 101753.48044242, 147675.63647864, 159002.91304289,\n",
       "       161424.58126617, 185456.13877283,  55836.80426662, 155812.50365683,\n",
       "        67328.70399587, 164016.20393327])"
      ]
     },
     "execution_count": 190,
     "metadata": {},
     "output_type": "execute_result"
    }
   ],
   "source": [
    "# Predicting the Test set results\n",
    "y_pred = lin_reg.predict(x_test)\n",
    "y_pred"
   ]
  },
  {
   "cell_type": "code",
   "execution_count": 191,
   "metadata": {},
   "outputs": [
    {
     "name": "stdout",
     "output_type": "stream",
     "text": [
      "[-7.92323210e+02 -4.64382238e+02  5.24699015e-01  9.03445439e-01\n",
      "  1.03284926e-01]\n"
     ]
    }
   ],
   "source": [
    "# Calculating the Coefficients\n",
    "print(lin_reg.coef_)"
   ]
  },
  {
   "cell_type": "code",
   "execution_count": 192,
   "metadata": {},
   "outputs": [
    {
     "name": "stdout",
     "output_type": "stream",
     "text": [
      "-57418.75678548415\n"
     ]
    }
   ],
   "source": [
    "# Calculating the Intercept\n",
    "print(lin_reg.intercept_)"
   ]
  },
  {
   "cell_type": "code",
   "execution_count": 193,
   "metadata": {},
   "outputs": [
    {
     "data": {
      "text/plain": [
       "0.920953619331005"
      ]
     },
     "execution_count": 193,
     "metadata": {},
     "output_type": "execute_result"
    }
   ],
   "source": [
    "# Calculating the R-squared value\n",
    "from sklearn.metrics import r2_score\n",
    "r2_score(y_test, y_pred)"
   ]
  }
 ],
 "metadata": {
  "kernelspec": {
   "display_name": "Python 3",
   "language": "python",
   "name": "python3"
  },
  "language_info": {
   "codemirror_mode": {
    "name": "ipython",
    "version": 3
   },
   "file_extension": ".py",
   "mimetype": "text/x-python",
   "name": "python",
   "nbconvert_exporter": "python",
   "pygments_lexer": "ipython3",
   "version": "3.8.1"
  }
 },
 "nbformat": 4,
 "nbformat_minor": 4
}
